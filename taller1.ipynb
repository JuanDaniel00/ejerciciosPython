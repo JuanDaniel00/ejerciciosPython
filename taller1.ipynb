{
 "cells": [
  {
   "cell_type": "code",
   "execution_count": null,
   "metadata": {},
   "outputs": [
    {
     "name": "stdout",
     "output_type": "stream",
     "text": [
      "El precio a pagar es de: 198712.5 pesos\n"
     ]
    }
   ],
   "source": [
    "# 1.\tLa gasolinera Muralla, le acaban de llegar 6 bombas despachadoras de gasolina normal, el problema es que al despachar cierta cantidad de gasolina lo registra en galones, pero el precio de la gasolina está fijado en litros. Desarrollar un algoritmo y diagrama de flujo que calcule e imprima lo que hay que cobrarle al cliente, se introducirá la cantidad de galones y el precio por litro.\n",
    "\n",
    "\n",
    "\n",
    "\n",
    "galones = float(input(\"Ingrese la cantidad de galones despachados: \"))\n",
    "precio_litro = float(input(\"Ingrese el precio por litro: \"))\n",
    "\n",
    "litros = galones * 3.785\n",
    "\n",
    "precio_pagar = litros * precio_litro\n",
    "\n",
    "print(\"El precio a pagar es de:\", precio_pagar, \"pesos\")"
   ]
  },
  {
   "cell_type": "code",
   "execution_count": null,
   "metadata": {},
   "outputs": [
    {
     "name": "stdout",
     "output_type": "stream",
     "text": [
      "La primera raíz es: 1.3554576584035927\n",
      "La segunda raíz es: -3.6887909917369264\n"
     ]
    }
   ],
   "source": [
    "# 2.\tEl maestro de la clase de matemáticas de la secundaria federal número 29, quiere Desarrollar un algoritmo que le permita calcular las raíces de la ecuación: Y = 3X2 + 7X – 15, con el motivo de tener una respuesta más precisa y rápida.\n",
    "from math import sqrt\n",
    "a = 3\n",
    "b = 7\n",
    "c = -15\n",
    "\n",
    "discriminante = b**2 - 4 * a * c\n",
    "\n",
    "raiz1 = (-b + sqrt(discriminante)) / (2 * a)\n",
    "raiz2 = (-b - sqrt(discriminante)) / (2 * a)\n",
    "\n",
    "print(\"La primera raíz es:\", raiz1)\n",
    "print(\"La segunda raíz es:\", raiz2)"
   ]
  },
  {
   "cell_type": "code",
   "execution_count": null,
   "metadata": {},
   "outputs": [
    {
     "name": "stdout",
     "output_type": "stream",
     "text": [
      "Informe estadístico del rinoceronte: Pepe\n",
      "Edad: 12.0 años\n",
      "Peso: 181.4368 kg\n",
      "Longitud: 1.8288000000000002 m\n"
     ]
    }
   ],
   "source": [
    "# 3.\tEl Zoológico la Pastora desea tener un informe estadístico de sus rinocerontes con respecto a su longevidad, tal que da como datos el nombre de un rinoceronte, su edad, su peso, y su longitud, expresados estos dos últimos en libras y pies respectivamente. Desarrollar un algoritmo que imprima el nombre del rinoceronte, su edad, su peso expresado en kilogramos y su longitud expresada en metros.\n",
    "\n",
    "nombre = input(\"Ingrese el nombre del rinoceronte: \")\n",
    "edad = float(input(\"Ingrese la edad del rinoceronte: \"))\n",
    "peso_libras = float(input(\"Ingrese el peso del rinoceronte en libras: \"))\n",
    "longitud_pies = float(input(\"Ingrese la longitud del rinoceronte en pies: \"))\n",
    "\n",
    "peso_kg = peso_libras * 0.453592\n",
    "\n",
    "longitud_metros = longitud_pies * 0.3048\n",
    "\n",
    "print(\"Informe estadístico del rinoceronte:\", nombre)\n",
    "print(\"Edad:\", edad, \"años\")\n",
    "print(\"Peso:\", peso_kg, \"kg\")\n",
    "print(\"Longitud:\", longitud_metros, \"m\")"
   ]
  },
  {
   "cell_type": "code",
   "execution_count": null,
   "metadata": {},
   "outputs": [
    {
     "name": "stdout",
     "output_type": "stream",
     "text": [
      "Nombre del empleado: Juan\n",
      "Sueldo neto: 72000.0\n"
     ]
    }
   ],
   "source": [
    "# 4.\tEl jefe del personal de operación de la industria aceitera Móvil desea calcular el sueldo neto de sus empleados bajo las siguientes normas, solicitar el nombre del empleado, número de horas trabajadas y la cuota por hora trabajada, para calcular el sueldo neto del empleado, se le otorga un incentivo del 5% si el empleado trabajó más de 40 horas. Imprimir el nombre del empleado y su sueldo. Desarrollar el algoritmo\n",
    "\n",
    "nombre_empleado = input(\"Ingrese el nombre del empleado: \")\n",
    "horas_trabajadas = float(input(\"Ingrese el número de horas trabajadas: \"))\n",
    "cuota_hora = float(input(\"Ingrese la cuota por hora trabajada: \"))\n",
    "\n",
    "sueldo_bruto = horas_trabajadas * cuota_hora\n",
    "\n",
    "if horas_trabajadas > 40:\n",
    "    incentivo = sueldo_bruto * 0.05\n",
    "else:\n",
    "    incentivo = 0\n",
    "\n",
    "sueldo_neto = sueldo_bruto + incentivo\n",
    "\n",
    "print(\"Nombre del empleado:\", nombre_empleado)\n",
    "print(\"Sueldo neto:\", sueldo_neto)\n"
   ]
  },
  {
   "cell_type": "code",
   "execution_count": null,
   "metadata": {},
   "outputs": [
    {
     "name": "stdout",
     "output_type": "stream",
     "text": [
      "Precio final del terreno: 454140000.0\n"
     ]
    }
   ],
   "source": [
    "# 5.\tLa compañía de seguros de vida atlas se va a cambiar de domicilio y por lo tanto pone en venta su terreno, pero no tiene una idea del valor del terreno, entonces solicita al departamento de sistemas que le desarrolle un algoritmo con la finalidad de que calcule e imprima el precio del terreno del cual se tiene los siguientes datos: largo, ancho y precio por metro cuadrado, si el terreno tiene más de 400 metros cuadrados se hace un descuento del 10%. \n",
    "\n",
    "largo = float(input(\"Ingrese el largo del terreno (en metros): \"))\n",
    "ancho = float(input(\"Ingrese el ancho del terreno (en metros): \"))\n",
    "precio_metro_cuadrado = float(input(\"Ingrese el precio por metro cuadrado: \"))\n",
    "\n",
    "area = largo * ancho\n",
    "\n",
    "precio_total_sin_descuento = area * precio_metro_cuadrado\n",
    "\n",
    "if area > 400:\n",
    "    descuento = precio_total_sin_descuento * 0.1\n",
    "    precio_total = precio_total_sin_descuento - descuento\n",
    "else:\n",
    "    precio_total = precio_total_sin_descuento\n",
    "\n",
    "print(\"Precio final del terreno:\", precio_total)\n"
   ]
  },
  {
   "cell_type": "code",
   "execution_count": null,
   "metadata": {},
   "outputs": [
    {
     "name": "stdout",
     "output_type": "stream",
     "text": [
      "Modelo del traje: Largo\n",
      "Cantidad de trajes: 3\n",
      "Precio total: 1245000.0\n"
     ]
    }
   ],
   "source": [
    "# 6.\tEl jefe del almacén de ropa almacenes del mayo pone una promoción en sus trajes por un período de tres días para sus clientes, de tal manera que si un cliente ordena un traje se captura el modelo del traje y el precio unitario. Si el cliente ordena tres o más trajes se le hace un descuento del 17%, si no se le cobra al precio normal. Desarrollar el algoritmo.\n",
    "\n",
    "modelo_traje = input(\"Ingrese el modelo del traje: \")\n",
    "precio_unitario = float(input(\"Ingrese el precio unitario del traje: \"))\n",
    "cantidad_trajes = int(input(\"Ingrese la cantidad de trajes: \"))\n",
    "\n",
    "precio_total_sin_descuento = cantidad_trajes * precio_unitario\n",
    "\n",
    "if cantidad_trajes >= 3:\n",
    "    descuento = precio_total_sin_descuento * 0.17\n",
    "    precio_total = precio_total_sin_descuento - descuento\n",
    "else:\n",
    "    precio_total = precio_total_sin_descuento\n",
    "\n",
    "print(\"Modelo del traje:\", modelo_traje)\n",
    "print(\"Cantidad de trajes:\", cantidad_trajes)\n",
    "print(\"Precio total:\", precio_total)"
   ]
  },
  {
   "cell_type": "code",
   "execution_count": null,
   "metadata": {},
   "outputs": [
    {
     "name": "stdout",
     "output_type": "stream",
     "text": [
      "--------------------------------------------\n",
      "Detalle de la orden:\n",
      "Brochas de cerda: 35 unidades Precio unitario: 3600.0 Costo total: 100800.0\n",
      "Rodillos: 65 unidades Precio unitario: 4700.0 Costo total: 259675.0\n",
      "Sellador: 49 unidades Precio unitario: 4000.0 Costo total: 196000.0\n",
      "Subtotal: 556475.0\n",
      "--------------------------------------------\n",
      "Total para pago de contado: 517521.75\n",
      "Total para pago de crédito: 556475.0\n",
      "--------------------------------------------\n"
     ]
    }
   ],
   "source": [
    "# 7.\tUn cliente ordena cierta cantidad de brochas de cerda, rodillos y sellador; las brochas de cerda tienen un 20% de descuento y los rodillos un 15% de descuento. Los datos que se tienen por cada tipo de artículo son: la cantidad pedida y el precio unitario. Además, si se paga de contado todo tiene un descuento del 7%. Desarrollar un algoritmo que calcule y muestre el costo total de la orden, tanto para el pago de contado como para el caso de pago de crédito.  \n",
    "\n",
    "# Se definen las variables\n",
    "cantidad_brochas = int(input(\"Ingrese la cantidad de brochas de cerda: \"))\n",
    "precio_brocha = float(input(\"Ingrese el precio unitario de la brocha de cerda: \"))\n",
    "\n",
    "cantidad_rodillos = int(input(\"Ingrese la cantidad de rodillos: \"))\n",
    "precio_rodillo = float(input(\"Ingrese el precio unitario del rodillo: \"))\n",
    "\n",
    "cantidad_sellador = int(input(\"Ingrese la cantidad de sellador: \"))\n",
    "precio_sellador = float(input(\"Ingrese el precio unitario del sellador: \"))\n",
    "\n",
    "precio_total_brochas = cantidad_brochas * precio_brocha\n",
    "\n",
    "descuento_brochas = precio_total_brochas * 0.2\n",
    "\n",
    "precio_final_brochas = precio_total_brochas - descuento_brochas\n",
    "\n",
    "precio_total_rodillos = cantidad_rodillos * precio_rodillo\n",
    "\n",
    "descuento_rodillos = precio_total_rodillos * 0.15\n",
    "\n",
    "precio_final_rodillos = precio_total_rodillos - descuento_rodillos\n",
    "\n",
    "precio_total_sellador = cantidad_sellador * precio_sellador\n",
    "\n",
    "subtotal = precio_final_brochas + precio_final_rodillos + precio_total_sellador\n",
    "\n",
    "descuento_contado = 0\n",
    "if input(\"¿El pago es de contado? (si/no): \") == \"si\":\n",
    "    descuento_contado = subtotal * 0.07\n",
    "\n",
    "total_contado = subtotal - descuento_contado\n",
    "\n",
    "total_credito = subtotal\n",
    "\n",
    "print(\"--------------------------------------------\")\n",
    "print(\"Detalle de la orden:\")\n",
    "print(\"Brochas de cerda:\", cantidad_brochas, \"unidades\", \"Precio unitario:\", precio_brocha, \"Costo total:\", precio_final_brochas)\n",
    "print(\"Rodillos:\", cantidad_rodillos, \"unidades\", \"Precio unitario:\", precio_rodillo, \"Costo total:\", precio_final_rodillos)\n",
    "print(\"Sellador:\", cantidad_sellador, \"unidades\", \"Precio unitario:\", precio_sellador, \"Costo total:\", precio_total_sellador)\n",
    "print(\"Subtotal:\", subtotal)\n",
    "print(\"--------------------------------------------\")\n",
    "print(\"Total para pago de contado:\", total_contado)\n",
    "print(\"Total para pago de crédito:\", total_credito)\n",
    "print(\"--------------------------------------------\")\n"
   ]
  }
 ],
 "metadata": {
  "language_info": {
   "codemirror_mode": {
    "name": "ipython",
    "version": 3
   },
   "file_extension": ".py",
   "mimetype": "text/x-python",
   "name": "python",
   "nbconvert_exporter": "python",
   "pygments_lexer": "ipython3",
   "version": 3
  }
 },
 "nbformat": 4,
 "nbformat_minor": 2
}
